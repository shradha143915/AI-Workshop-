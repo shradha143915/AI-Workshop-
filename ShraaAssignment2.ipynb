{
 "cells": [
  {
   "cell_type": "code",
   "execution_count": 1,
   "id": "3b5bceb0-cfcc-4c46-8e24-79a50c4ae0d4",
   "metadata": {},
   "outputs": [],
   "source": [
    "import pandas as pd"
   ]
  },
  {
   "cell_type": "code",
   "execution_count": 3,
   "id": "d3cd20cf-cdbd-441a-b4fd-d5f541f15443",
   "metadata": {},
   "outputs": [],
   "source": [
    "import numpy as np"
   ]
  },
  {
   "cell_type": "code",
   "execution_count": 5,
   "id": "afc148ef-00c6-4772-9dea-92f046e6a392",
   "metadata": {},
   "outputs": [],
   "source": [
    "import numpy as np\n",
    "\n",
    "data = {\n",
    "    'Visitor_ID': [f'V{1000 + i}' for i in range(20)],\n",
    "    'Name': ['RAVI KUMAR SHARMA', 'PRIYA ANAND RAO', 'SNEHA SINGH', 'ARJUN MEHRA', 'RAHUL KUMAR SINGH',\n",
    "             'NEHA PATEL', 'ANURAG SAXENA', 'TANVI SHARMA', 'SAMRUDHI BHAGAT', 'MAYANK RAJPUT',\n",
    "             'RAKHI TIWARI', 'HARISH KUMAR', 'VINAY GUPTA', 'PRIYANKA GARG', 'RITIKA JAIN',\n",
    "             'NITIN KUMAR', 'SAYALI GOSWAMI', 'ANAMIKA MEHRA', 'SHIVANI AGARWAL', 'ROHIT JAIN'],\n",
    "    'Age': [29, 24, 28, 22, np.nan, 31, 27, 25, 22, 26, 23, 30, 28, 24, 25, 27, 22, 23, 29, 31],\n",
    "    'Ticket_Price': [1200, 900, 600, 1100, 750, 800, np.nan, 950, 1000, 1050, 850, 700, 950, 1200, 1300, \n",
    "                     950, 900, 1000, 1100, np.nan],\n",
    "    'Check_In_Time': ['09:30 AM', '10:15 AM', '11:00 AM', '11:45 AM', '12:00 PM', '02:00 PM', '02:15 PM', \n",
    "                      '03:00 PM', '03:30 PM', '04:00 PM', '10:00 AM', '11:15 AM', '01:30 PM', '02:45 PM',\n",
    "                      '04:30 PM', '12:00 PM', '01:00 PM', '02:30 PM', '03:15 PM', np.nan],\n",
    "    'City': ['Kolkata', 'Hyderabad', 'Chandigarh', 'Lucknow', 'Pune', 'Bhubaneswar', 'Delhi', 'Mumbai', \n",
    "             'Nagpur', 'Chennai', 'Bhopal', 'Bangalore', 'Indore', 'Jaipur', 'Agra', 'Vadodara', 'Surat', \n",
    "             'Amritsar', 'Coimbatore', 'Patna'],\n",
    "    'State': ['West Bengal', 'Telangana', 'Punjab', 'Uttar Pradesh', 'Maharashtra', 'Odisha', 'Delhi', \n",
    "              'Maharashtra', 'Maharashtra', 'Tamil Nadu', 'Madhya Pradesh', 'Karnataka', 'Madhya Pradesh', \n",
    "              'Rajasthan', 'Uttar Pradesh', 'Gujarat', 'Gujarat', 'Punjab', 'Tamil Nadu', 'Bihar']\n",
    "}"
   ]
  },
  {
   "cell_type": "code",
   "execution_count": 7,
   "id": "d03e6e31-d8a9-4710-a766-b2d070003ae6",
   "metadata": {},
   "outputs": [],
   "source": [
    "df = pd.DataFrame(data)"
   ]
  },
  {
   "cell_type": "code",
   "execution_count": 9,
   "id": "69381cd7-6b98-48ec-8214-56be7eac6d1e",
   "metadata": {},
   "outputs": [
    {
     "name": "stdout",
     "output_type": "stream",
     "text": [
      "<class 'pandas.core.frame.DataFrame'>\n",
      "RangeIndex: 20 entries, 0 to 19\n",
      "Data columns (total 7 columns):\n",
      " #   Column         Non-Null Count  Dtype  \n",
      "---  ------         --------------  -----  \n",
      " 0   Visitor_ID     20 non-null     object \n",
      " 1   Name           20 non-null     object \n",
      " 2   Age            19 non-null     float64\n",
      " 3   Ticket_Price   18 non-null     float64\n",
      " 4   Check_In_Time  19 non-null     object \n",
      " 5   City           20 non-null     object \n",
      " 6   State          20 non-null     object \n",
      "dtypes: float64(2), object(5)\n",
      "memory usage: 1.2+ KB\n"
     ]
    }
   ],
   "source": [
    "df.info()"
   ]
  },
  {
   "cell_type": "code",
   "execution_count": 11,
   "id": "908fb08c-bf4b-4238-a443-8315d7743abf",
   "metadata": {},
   "outputs": [
    {
     "data": {
      "text/html": [
       "<div>\n",
       "<style scoped>\n",
       "    .dataframe tbody tr th:only-of-type {\n",
       "        vertical-align: middle;\n",
       "    }\n",
       "\n",
       "    .dataframe tbody tr th {\n",
       "        vertical-align: top;\n",
       "    }\n",
       "\n",
       "    .dataframe thead th {\n",
       "        text-align: right;\n",
       "    }\n",
       "</style>\n",
       "<table border=\"1\" class=\"dataframe\">\n",
       "  <thead>\n",
       "    <tr style=\"text-align: right;\">\n",
       "      <th></th>\n",
       "      <th>Visitor_ID</th>\n",
       "      <th>Name</th>\n",
       "      <th>Age</th>\n",
       "      <th>Ticket_Price</th>\n",
       "      <th>Check_In_Time</th>\n",
       "      <th>City</th>\n",
       "      <th>State</th>\n",
       "    </tr>\n",
       "  </thead>\n",
       "  <tbody>\n",
       "    <tr>\n",
       "      <th>0</th>\n",
       "      <td>V1000</td>\n",
       "      <td>RAVI KUMAR SHARMA</td>\n",
       "      <td>29.0</td>\n",
       "      <td>1200.0</td>\n",
       "      <td>09:30 AM</td>\n",
       "      <td>Kolkata</td>\n",
       "      <td>West Bengal</td>\n",
       "    </tr>\n",
       "    <tr>\n",
       "      <th>1</th>\n",
       "      <td>V1001</td>\n",
       "      <td>PRIYA ANAND RAO</td>\n",
       "      <td>24.0</td>\n",
       "      <td>900.0</td>\n",
       "      <td>10:15 AM</td>\n",
       "      <td>Hyderabad</td>\n",
       "      <td>Telangana</td>\n",
       "    </tr>\n",
       "    <tr>\n",
       "      <th>2</th>\n",
       "      <td>V1002</td>\n",
       "      <td>SNEHA SINGH</td>\n",
       "      <td>28.0</td>\n",
       "      <td>600.0</td>\n",
       "      <td>11:00 AM</td>\n",
       "      <td>Chandigarh</td>\n",
       "      <td>Punjab</td>\n",
       "    </tr>\n",
       "    <tr>\n",
       "      <th>3</th>\n",
       "      <td>V1003</td>\n",
       "      <td>ARJUN MEHRA</td>\n",
       "      <td>22.0</td>\n",
       "      <td>1100.0</td>\n",
       "      <td>11:45 AM</td>\n",
       "      <td>Lucknow</td>\n",
       "      <td>Uttar Pradesh</td>\n",
       "    </tr>\n",
       "    <tr>\n",
       "      <th>4</th>\n",
       "      <td>V1004</td>\n",
       "      <td>RAHUL KUMAR SINGH</td>\n",
       "      <td>NaN</td>\n",
       "      <td>750.0</td>\n",
       "      <td>12:00 PM</td>\n",
       "      <td>Pune</td>\n",
       "      <td>Maharashtra</td>\n",
       "    </tr>\n",
       "  </tbody>\n",
       "</table>\n",
       "</div>"
      ],
      "text/plain": [
       "  Visitor_ID               Name   Age  Ticket_Price Check_In_Time        City  \\\n",
       "0      V1000  RAVI KUMAR SHARMA  29.0        1200.0      09:30 AM     Kolkata   \n",
       "1      V1001    PRIYA ANAND RAO  24.0         900.0      10:15 AM   Hyderabad   \n",
       "2      V1002        SNEHA SINGH  28.0         600.0      11:00 AM  Chandigarh   \n",
       "3      V1003        ARJUN MEHRA  22.0        1100.0      11:45 AM     Lucknow   \n",
       "4      V1004  RAHUL KUMAR SINGH   NaN         750.0      12:00 PM        Pune   \n",
       "\n",
       "           State  \n",
       "0    West Bengal  \n",
       "1      Telangana  \n",
       "2         Punjab  \n",
       "3  Uttar Pradesh  \n",
       "4    Maharashtra  "
      ]
     },
     "execution_count": 11,
     "metadata": {},
     "output_type": "execute_result"
    }
   ],
   "source": [
    "# This Is For To Print Elements only\n",
    "df.head(5)"
   ]
  },
  {
   "cell_type": "code",
   "execution_count": 13,
   "id": "2449a4ab-a427-4a5d-8400-deb6d47fb323",
   "metadata": {},
   "outputs": [
    {
     "data": {
      "text/html": [
       "<div>\n",
       "<style scoped>\n",
       "    .dataframe tbody tr th:only-of-type {\n",
       "        vertical-align: middle;\n",
       "    }\n",
       "\n",
       "    .dataframe tbody tr th {\n",
       "        vertical-align: top;\n",
       "    }\n",
       "\n",
       "    .dataframe thead th {\n",
       "        text-align: right;\n",
       "    }\n",
       "</style>\n",
       "<table border=\"1\" class=\"dataframe\">\n",
       "  <thead>\n",
       "    <tr style=\"text-align: right;\">\n",
       "      <th></th>\n",
       "      <th>Visitor_ID</th>\n",
       "      <th>Name</th>\n",
       "      <th>Age</th>\n",
       "      <th>Ticket_Price</th>\n",
       "      <th>Check_In_Time</th>\n",
       "      <th>City</th>\n",
       "      <th>State</th>\n",
       "    </tr>\n",
       "  </thead>\n",
       "  <tbody>\n",
       "    <tr>\n",
       "      <th>18</th>\n",
       "      <td>V1018</td>\n",
       "      <td>SHIVANI AGARWAL</td>\n",
       "      <td>29.0</td>\n",
       "      <td>1100.0</td>\n",
       "      <td>03:15 PM</td>\n",
       "      <td>Coimbatore</td>\n",
       "      <td>Tamil Nadu</td>\n",
       "    </tr>\n",
       "    <tr>\n",
       "      <th>19</th>\n",
       "      <td>V1019</td>\n",
       "      <td>ROHIT JAIN</td>\n",
       "      <td>31.0</td>\n",
       "      <td>NaN</td>\n",
       "      <td>NaN</td>\n",
       "      <td>Patna</td>\n",
       "      <td>Bihar</td>\n",
       "    </tr>\n",
       "  </tbody>\n",
       "</table>\n",
       "</div>"
      ],
      "text/plain": [
       "   Visitor_ID             Name   Age  Ticket_Price Check_In_Time        City  \\\n",
       "18      V1018  SHIVANI AGARWAL  29.0        1100.0      03:15 PM  Coimbatore   \n",
       "19      V1019       ROHIT JAIN  31.0           NaN           NaN       Patna   \n",
       "\n",
       "         State  \n",
       "18  Tamil Nadu  \n",
       "19       Bihar  "
      ]
     },
     "execution_count": 13,
     "metadata": {},
     "output_type": "execute_result"
    }
   ],
   "source": [
    "# This Is For To Print Last Two Elements \n",
    "df.tail(2)"
   ]
  },
  {
   "cell_type": "code",
   "execution_count": 15,
   "id": "68da0f96-26a7-43e6-8978-682b71e3e3a1",
   "metadata": {},
   "outputs": [
    {
     "data": {
      "text/plain": [
       "(20, 7)"
      ]
     },
     "execution_count": 15,
     "metadata": {},
     "output_type": "execute_result"
    }
   ],
   "source": [
    "# This Is For TRo Print Size Of The data\n",
    "df.shape"
   ]
  },
  {
   "cell_type": "code",
   "execution_count": 17,
   "id": "1deb5074-da1e-466d-b633-345e5af0d66e",
   "metadata": {},
   "outputs": [
    {
     "data": {
      "text/plain": [
       "Visitor_ID        object\n",
       "Name              object\n",
       "Age              float64\n",
       "Ticket_Price     float64\n",
       "Check_In_Time     object\n",
       "City              object\n",
       "State             object\n",
       "dtype: object"
      ]
     },
     "execution_count": 17,
     "metadata": {},
     "output_type": "execute_result"
    }
   ],
   "source": [
    "#Print data Types \n",
    "df.dtypes"
   ]
  },
  {
   "cell_type": "code",
   "execution_count": 19,
   "id": "441df4e1-6537-4c83-bdc5-eb2767a42fba",
   "metadata": {},
   "outputs": [
    {
     "data": {
      "text/html": [
       "<div>\n",
       "<style scoped>\n",
       "    .dataframe tbody tr th:only-of-type {\n",
       "        vertical-align: middle;\n",
       "    }\n",
       "\n",
       "    .dataframe tbody tr th {\n",
       "        vertical-align: top;\n",
       "    }\n",
       "\n",
       "    .dataframe thead th {\n",
       "        text-align: right;\n",
       "    }\n",
       "</style>\n",
       "<table border=\"1\" class=\"dataframe\">\n",
       "  <thead>\n",
       "    <tr style=\"text-align: right;\">\n",
       "      <th></th>\n",
       "      <th>Age</th>\n",
       "      <th>Ticket_Price</th>\n",
       "    </tr>\n",
       "  </thead>\n",
       "  <tbody>\n",
       "    <tr>\n",
       "      <th>count</th>\n",
       "      <td>19.000000</td>\n",
       "      <td>18.000000</td>\n",
       "    </tr>\n",
       "    <tr>\n",
       "      <th>mean</th>\n",
       "      <td>26.105263</td>\n",
       "      <td>961.111111</td>\n",
       "    </tr>\n",
       "    <tr>\n",
       "      <th>std</th>\n",
       "      <td>3.071278</td>\n",
       "      <td>182.753092</td>\n",
       "    </tr>\n",
       "    <tr>\n",
       "      <th>min</th>\n",
       "      <td>22.000000</td>\n",
       "      <td>600.000000</td>\n",
       "    </tr>\n",
       "    <tr>\n",
       "      <th>25%</th>\n",
       "      <td>23.500000</td>\n",
       "      <td>862.500000</td>\n",
       "    </tr>\n",
       "    <tr>\n",
       "      <th>50%</th>\n",
       "      <td>26.000000</td>\n",
       "      <td>950.000000</td>\n",
       "    </tr>\n",
       "    <tr>\n",
       "      <th>75%</th>\n",
       "      <td>28.500000</td>\n",
       "      <td>1087.500000</td>\n",
       "    </tr>\n",
       "    <tr>\n",
       "      <th>max</th>\n",
       "      <td>31.000000</td>\n",
       "      <td>1300.000000</td>\n",
       "    </tr>\n",
       "  </tbody>\n",
       "</table>\n",
       "</div>"
      ],
      "text/plain": [
       "             Age  Ticket_Price\n",
       "count  19.000000     18.000000\n",
       "mean   26.105263    961.111111\n",
       "std     3.071278    182.753092\n",
       "min    22.000000    600.000000\n",
       "25%    23.500000    862.500000\n",
       "50%    26.000000    950.000000\n",
       "75%    28.500000   1087.500000\n",
       "max    31.000000   1300.000000"
      ]
     },
     "execution_count": 19,
     "metadata": {},
     "output_type": "execute_result"
    }
   ],
   "source": [
    "# For describing Data\n",
    "df.describe()\n"
   ]
  },
  {
   "cell_type": "code",
   "execution_count": 21,
   "id": "58b7cfc5-c7c8-48ce-beb4-34664ee10c65",
   "metadata": {},
   "outputs": [
    {
     "data": {
      "text/plain": [
       "<bound method DataFrame.drop_duplicates of    Visitor_ID               Name   Age  Ticket_Price Check_In_Time  \\\n",
       "0       V1000  RAVI KUMAR SHARMA  29.0        1200.0      09:30 AM   \n",
       "1       V1001    PRIYA ANAND RAO  24.0         900.0      10:15 AM   \n",
       "2       V1002        SNEHA SINGH  28.0         600.0      11:00 AM   \n",
       "3       V1003        ARJUN MEHRA  22.0        1100.0      11:45 AM   \n",
       "4       V1004  RAHUL KUMAR SINGH   NaN         750.0      12:00 PM   \n",
       "5       V1005         NEHA PATEL  31.0         800.0      02:00 PM   \n",
       "6       V1006      ANURAG SAXENA  27.0           NaN      02:15 PM   \n",
       "7       V1007       TANVI SHARMA  25.0         950.0      03:00 PM   \n",
       "8       V1008    SAMRUDHI BHAGAT  22.0        1000.0      03:30 PM   \n",
       "9       V1009      MAYANK RAJPUT  26.0        1050.0      04:00 PM   \n",
       "10      V1010       RAKHI TIWARI  23.0         850.0      10:00 AM   \n",
       "11      V1011       HARISH KUMAR  30.0         700.0      11:15 AM   \n",
       "12      V1012        VINAY GUPTA  28.0         950.0      01:30 PM   \n",
       "13      V1013      PRIYANKA GARG  24.0        1200.0      02:45 PM   \n",
       "14      V1014        RITIKA JAIN  25.0        1300.0      04:30 PM   \n",
       "15      V1015        NITIN KUMAR  27.0         950.0      12:00 PM   \n",
       "16      V1016     SAYALI GOSWAMI  22.0         900.0      01:00 PM   \n",
       "17      V1017      ANAMIKA MEHRA  23.0        1000.0      02:30 PM   \n",
       "18      V1018    SHIVANI AGARWAL  29.0        1100.0      03:15 PM   \n",
       "19      V1019         ROHIT JAIN  31.0           NaN           NaN   \n",
       "\n",
       "           City           State  \n",
       "0       Kolkata     West Bengal  \n",
       "1     Hyderabad       Telangana  \n",
       "2    Chandigarh          Punjab  \n",
       "3       Lucknow   Uttar Pradesh  \n",
       "4          Pune     Maharashtra  \n",
       "5   Bhubaneswar          Odisha  \n",
       "6         Delhi           Delhi  \n",
       "7        Mumbai     Maharashtra  \n",
       "8        Nagpur     Maharashtra  \n",
       "9       Chennai      Tamil Nadu  \n",
       "10       Bhopal  Madhya Pradesh  \n",
       "11    Bangalore       Karnataka  \n",
       "12       Indore  Madhya Pradesh  \n",
       "13       Jaipur       Rajasthan  \n",
       "14         Agra   Uttar Pradesh  \n",
       "15     Vadodara         Gujarat  \n",
       "16        Surat         Gujarat  \n",
       "17     Amritsar          Punjab  \n",
       "18   Coimbatore      Tamil Nadu  \n",
       "19        Patna           Bihar  >"
      ]
     },
     "execution_count": 21,
     "metadata": {},
     "output_type": "execute_result"
    }
   ],
   "source": [
    "# For Drop The The Duplicates\n",
    "df.drop_duplicates"
   ]
  },
  {
   "cell_type": "code",
   "execution_count": 23,
   "id": "f0e72d73-0f5c-4389-9910-42113bc1aff1",
   "metadata": {},
   "outputs": [
    {
     "data": {
      "text/plain": [
       "<Axes: xlabel='Ticket_Price'>"
      ]
     },
     "execution_count": 23,
     "metadata": {},
     "output_type": "execute_result"
    },
    {
     "data": {
      "image/png": "[encoded data removed]",
      "text/plain": [
       "<Figure size 640x480 with 1 Axes>"
      ]
     },
     "metadata": {},
     "output_type": "display_data"
    }
   ],
   "source": [
    "# This Is For Displaying chart Bar\n",
    "df['Ticket_Price'].value_counts().plot(kind='bar')"
   ]
  },
  {
   "cell_type": "code",
   "execution_count": null,
   "id": "eaad20fa-04ee-494b-b090-9cec04824f50",
   "metadata": {},
   "outputs": [],
   "source": []
  }
 ],
 "metadata": {
  "kernelspec": {
   "display_name": "Python 3 (ipykernel)",
   "language": "python",
   "name": "python3"
  },
  "language_info": {
   "codemirror_mode": {
    "name": "ipython",
    "version": 3
   },
   "file_extension": ".py",
   "mimetype": "text/x-python",
   "name": "python",
   "nbconvert_exporter": "python",
   "pygments_lexer": "ipython3",
   "version": "3.12.7"
  }
 },
 "nbformat": 4,
 "nbformat_minor": 5
}
