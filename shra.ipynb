{
 "cells": [
  {
   "cell_type": "code",
   "execution_count": 1,
   "metadata": {},
   "outputs": [
    {
     "name": "stdout",
     "output_type": "stream",
     "text": [
      "Reversed String: god yzal eht revo spmuj xof nworb kciuq ehT\n",
      "Reversed Words: ehT kciuq nworb xof spmuj revo eht yzal god\n"
     ]
    }
   ],
   "source": [
    "# Create a string\n",
    "input_string = \"The quick brown fox jumps over the lazy dog\"\n",
    "\n",
    "# Reverse the entire string\n",
    "reversed_string = ''.join(reversed(input_string))\n",
    "print(\"Reversed String:\", reversed_string)\n",
    "\n",
    "# Reverse the individual words only\n",
    "words = input_string.split()  # Split the string into words\n",
    "reversed_words = [word[::-1] for word in words]  # Reverse each word\n",
    "reversed_words_string = ' '.join(reversed_words)  # Join the words back together\n",
    "print(\"Reversed Words:\", reversed_words_string)\n"
   ]
  },
  {
   "cell_type": "code",
   "execution_count": 2,
   "metadata": {},
   "outputs": [
    {
     "name": "stdout",
     "output_type": "stream",
     "text": [
      "Random List of Numbers: [41, 79, 45, 23, 12, 17, 5, 72, 6, 94]\n",
      "Even Numbers in the List:\n",
      "12\n",
      "72\n",
      "6\n",
      "94\n"
     ]
    }
   ],
   "source": [
    "import random\n",
    "\n",
    "# Generate a random list of numbers (for example, 10 numbers between 1 and 100)\n",
    "random_numbers = [random.randint(1, 100) for _ in range(10)]\n",
    "\n",
    "# Print the random list\n",
    "print(\"Random List of Numbers:\", random_numbers)\n",
    "\n",
    "# Print even numbers from the list\n",
    "print(\"Even Numbers in the List:\")\n",
    "for num in random_numbers:\n",
    "    if num % 2 == 0:\n",
    "        print(num)\n"
   ]
  },
  {
   "cell_type": "code",
   "execution_count": null,
   "metadata": {},
   "outputs": [],
   "source": []
  }
 ],
 "metadata": {
  "kernelspec": {
   "display_name": "base",
   "language": "python",
   "name": "python3"
  },
  "language_info": {
   "codemirror_mode": {
    "name": "ipython",
    "version": 3
   },
   "file_extension": ".py",
   "mimetype": "text/x-python",
   "name": "python",
   "nbconvert_exporter": "python",
   "pygments_lexer": "ipython3",
   "version": "3.12.7"
  }
 },
 "nbformat": 4,
 "nbformat_minor": 2
}
